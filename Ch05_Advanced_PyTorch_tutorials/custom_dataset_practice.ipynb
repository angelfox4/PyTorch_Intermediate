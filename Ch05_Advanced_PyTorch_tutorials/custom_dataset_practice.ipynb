{
 "cells": [
  {
   "cell_type": "markdown",
   "metadata": {},
   "source": [
    "# Binary Classification"
   ]
  },
  {
   "cell_type": "markdown",
   "metadata": {},
   "source": [
    "## Load Dataset from sklearn"
   ]
  },
  {
   "cell_type": "code",
   "execution_count": 3,
   "metadata": {},
   "outputs": [],
   "source": [
    "import numpy as np\n",
    "import  pandas as pd\n",
    "import seaborn as sns\n",
    "import matplotlib.pyplot as plt"
   ]
  },
  {
   "cell_type": "code",
   "execution_count": 4,
   "metadata": {},
   "outputs": [],
   "source": [
    "from sklearn.datasets import load_breast_cancer\n",
    "cancer=load_breast_cancer()"
   ]
  },
  {
   "cell_type": "code",
   "execution_count": 8,
   "metadata": {},
   "outputs": [
    {
     "data": {
      "text/html": [
       "<div>\n",
       "<style scoped>\n",
       "    .dataframe tbody tr th:only-of-type {\n",
       "        vertical-align: middle;\n",
       "    }\n",
       "\n",
       "    .dataframe tbody tr th {\n",
       "        vertical-align: top;\n",
       "    }\n",
       "\n",
       "    .dataframe thead th {\n",
       "        text-align: right;\n",
       "    }\n",
       "</style>\n",
       "<table border=\"1\" class=\"dataframe\">\n",
       "  <thead>\n",
       "    <tr style=\"text-align: right;\">\n",
       "      <th></th>\n",
       "      <th>mean radius</th>\n",
       "      <th>mean texture</th>\n",
       "      <th>mean perimeter</th>\n",
       "      <th>mean area</th>\n",
       "      <th>mean smoothness</th>\n",
       "      <th>mean compactness</th>\n",
       "      <th>mean concavity</th>\n",
       "      <th>mean concave points</th>\n",
       "      <th>mean symmetry</th>\n",
       "      <th>mean fractal dimension</th>\n",
       "      <th>...</th>\n",
       "      <th>worst texture</th>\n",
       "      <th>worst perimeter</th>\n",
       "      <th>worst area</th>\n",
       "      <th>worst smoothness</th>\n",
       "      <th>worst compactness</th>\n",
       "      <th>worst concavity</th>\n",
       "      <th>worst concave points</th>\n",
       "      <th>worst symmetry</th>\n",
       "      <th>worst fractal dimension</th>\n",
       "      <th>class</th>\n",
       "    </tr>\n",
       "  </thead>\n",
       "  <tbody>\n",
       "    <tr>\n",
       "      <th>0</th>\n",
       "      <td>17.99</td>\n",
       "      <td>10.38</td>\n",
       "      <td>122.80</td>\n",
       "      <td>1001.0</td>\n",
       "      <td>0.11840</td>\n",
       "      <td>0.27760</td>\n",
       "      <td>0.3001</td>\n",
       "      <td>0.14710</td>\n",
       "      <td>0.2419</td>\n",
       "      <td>0.07871</td>\n",
       "      <td>...</td>\n",
       "      <td>17.33</td>\n",
       "      <td>184.60</td>\n",
       "      <td>2019.0</td>\n",
       "      <td>0.1622</td>\n",
       "      <td>0.6656</td>\n",
       "      <td>0.7119</td>\n",
       "      <td>0.2654</td>\n",
       "      <td>0.4601</td>\n",
       "      <td>0.11890</td>\n",
       "      <td>0</td>\n",
       "    </tr>\n",
       "    <tr>\n",
       "      <th>1</th>\n",
       "      <td>20.57</td>\n",
       "      <td>17.77</td>\n",
       "      <td>132.90</td>\n",
       "      <td>1326.0</td>\n",
       "      <td>0.08474</td>\n",
       "      <td>0.07864</td>\n",
       "      <td>0.0869</td>\n",
       "      <td>0.07017</td>\n",
       "      <td>0.1812</td>\n",
       "      <td>0.05667</td>\n",
       "      <td>...</td>\n",
       "      <td>23.41</td>\n",
       "      <td>158.80</td>\n",
       "      <td>1956.0</td>\n",
       "      <td>0.1238</td>\n",
       "      <td>0.1866</td>\n",
       "      <td>0.2416</td>\n",
       "      <td>0.1860</td>\n",
       "      <td>0.2750</td>\n",
       "      <td>0.08902</td>\n",
       "      <td>0</td>\n",
       "    </tr>\n",
       "    <tr>\n",
       "      <th>2</th>\n",
       "      <td>19.69</td>\n",
       "      <td>21.25</td>\n",
       "      <td>130.00</td>\n",
       "      <td>1203.0</td>\n",
       "      <td>0.10960</td>\n",
       "      <td>0.15990</td>\n",
       "      <td>0.1974</td>\n",
       "      <td>0.12790</td>\n",
       "      <td>0.2069</td>\n",
       "      <td>0.05999</td>\n",
       "      <td>...</td>\n",
       "      <td>25.53</td>\n",
       "      <td>152.50</td>\n",
       "      <td>1709.0</td>\n",
       "      <td>0.1444</td>\n",
       "      <td>0.4245</td>\n",
       "      <td>0.4504</td>\n",
       "      <td>0.2430</td>\n",
       "      <td>0.3613</td>\n",
       "      <td>0.08758</td>\n",
       "      <td>0</td>\n",
       "    </tr>\n",
       "    <tr>\n",
       "      <th>3</th>\n",
       "      <td>11.42</td>\n",
       "      <td>20.38</td>\n",
       "      <td>77.58</td>\n",
       "      <td>386.1</td>\n",
       "      <td>0.14250</td>\n",
       "      <td>0.28390</td>\n",
       "      <td>0.2414</td>\n",
       "      <td>0.10520</td>\n",
       "      <td>0.2597</td>\n",
       "      <td>0.09744</td>\n",
       "      <td>...</td>\n",
       "      <td>26.50</td>\n",
       "      <td>98.87</td>\n",
       "      <td>567.7</td>\n",
       "      <td>0.2098</td>\n",
       "      <td>0.8663</td>\n",
       "      <td>0.6869</td>\n",
       "      <td>0.2575</td>\n",
       "      <td>0.6638</td>\n",
       "      <td>0.17300</td>\n",
       "      <td>0</td>\n",
       "    </tr>\n",
       "    <tr>\n",
       "      <th>4</th>\n",
       "      <td>20.29</td>\n",
       "      <td>14.34</td>\n",
       "      <td>135.10</td>\n",
       "      <td>1297.0</td>\n",
       "      <td>0.10030</td>\n",
       "      <td>0.13280</td>\n",
       "      <td>0.1980</td>\n",
       "      <td>0.10430</td>\n",
       "      <td>0.1809</td>\n",
       "      <td>0.05883</td>\n",
       "      <td>...</td>\n",
       "      <td>16.67</td>\n",
       "      <td>152.20</td>\n",
       "      <td>1575.0</td>\n",
       "      <td>0.1374</td>\n",
       "      <td>0.2050</td>\n",
       "      <td>0.4000</td>\n",
       "      <td>0.1625</td>\n",
       "      <td>0.2364</td>\n",
       "      <td>0.07678</td>\n",
       "      <td>0</td>\n",
       "    </tr>\n",
       "  </tbody>\n",
       "</table>\n",
       "<p>5 rows × 31 columns</p>\n",
       "</div>"
      ],
      "text/plain": [
       "   mean radius  mean texture  mean perimeter  mean area  mean smoothness  \\\n",
       "0        17.99         10.38          122.80     1001.0          0.11840   \n",
       "1        20.57         17.77          132.90     1326.0          0.08474   \n",
       "2        19.69         21.25          130.00     1203.0          0.10960   \n",
       "3        11.42         20.38           77.58      386.1          0.14250   \n",
       "4        20.29         14.34          135.10     1297.0          0.10030   \n",
       "\n",
       "   mean compactness  mean concavity  mean concave points  mean symmetry  \\\n",
       "0           0.27760          0.3001              0.14710         0.2419   \n",
       "1           0.07864          0.0869              0.07017         0.1812   \n",
       "2           0.15990          0.1974              0.12790         0.2069   \n",
       "3           0.28390          0.2414              0.10520         0.2597   \n",
       "4           0.13280          0.1980              0.10430         0.1809   \n",
       "\n",
       "   mean fractal dimension  ...  worst texture  worst perimeter  worst area  \\\n",
       "0                 0.07871  ...          17.33           184.60      2019.0   \n",
       "1                 0.05667  ...          23.41           158.80      1956.0   \n",
       "2                 0.05999  ...          25.53           152.50      1709.0   \n",
       "3                 0.09744  ...          26.50            98.87       567.7   \n",
       "4                 0.05883  ...          16.67           152.20      1575.0   \n",
       "\n",
       "   worst smoothness  worst compactness  worst concavity  worst concave points  \\\n",
       "0            0.1622             0.6656           0.7119                0.2654   \n",
       "1            0.1238             0.1866           0.2416                0.1860   \n",
       "2            0.1444             0.4245           0.4504                0.2430   \n",
       "3            0.2098             0.8663           0.6869                0.2575   \n",
       "4            0.1374             0.2050           0.4000                0.1625   \n",
       "\n",
       "   worst symmetry  worst fractal dimension  class  \n",
       "0          0.4601                  0.11890      0  \n",
       "1          0.2750                  0.08902      0  \n",
       "2          0.3613                  0.08758      0  \n",
       "3          0.6638                  0.17300      0  \n",
       "4          0.2364                  0.07678      0  \n",
       "\n",
       "[5 rows x 31 columns]"
      ]
     },
     "execution_count": 8,
     "metadata": {},
     "output_type": "execute_result"
    }
   ],
   "source": [
    "df=pd.DataFrame(cancer.data, columns=cancer.feature_names)\n",
    "df['class']=cancer.target\n",
    "\n",
    "df.head()"
   ]
  },
  {
   "cell_type": "code",
   "execution_count": 9,
   "metadata": {},
   "outputs": [
    {
     "data": {
      "text/plain": [
       "Index(['mean radius', 'mean texture', 'mean perimeter', 'mean area',\n",
       "       'mean smoothness', 'mean compactness', 'mean concavity',\n",
       "       'mean concave points', 'mean symmetry', 'mean fractal dimension',\n",
       "       'radius error', 'texture error', 'perimeter error', 'area error',\n",
       "       'smoothness error', 'compactness error', 'concavity error',\n",
       "       'concave points error', 'symmetry error', 'fractal dimension error',\n",
       "       'worst radius', 'worst texture', 'worst perimeter', 'worst area',\n",
       "       'worst smoothness', 'worst compactness', 'worst concavity',\n",
       "       'worst concave points', 'worst symmetry', 'worst fractal dimension',\n",
       "       'class'],\n",
       "      dtype='object')"
      ]
     },
     "execution_count": 9,
     "metadata": {},
     "output_type": "execute_result"
    }
   ],
   "source": [
    "df.columns"
   ]
  },
  {
   "cell_type": "markdown",
   "metadata": {},
   "source": [
    "## Convert to PyTorch Tensor"
   ]
  },
  {
   "cell_type": "code",
   "execution_count": 10,
   "metadata": {},
   "outputs": [],
   "source": [
    "import torch\n",
    "import torch.nn as nn\n",
    "import torch.nn.functional as F\n",
    "import torch.optim as optim"
   ]
  },
  {
   "cell_type": "code",
   "execution_count": 15,
   "metadata": {},
   "outputs": [
    {
     "data": {
      "text/plain": [
       "torch.Size([569, 31])"
      ]
     },
     "execution_count": 15,
     "metadata": {},
     "output_type": "execute_result"
    }
   ],
   "source": [
    "data=torch.from_numpy(df.values).float()\n",
    "\n",
    "data.shape"
   ]
  },
  {
   "cell_type": "code",
   "execution_count": 16,
   "metadata": {},
   "outputs": [
    {
     "name": "stdout",
     "output_type": "stream",
     "text": [
      "torch.Size([569, 10]) torch.Size([569, 1])\n"
     ]
    }
   ],
   "source": [
    "x=data[:, :10]\n",
    "y=data[:, -1:]\n",
    "\n",
    "print(x.shape, y.shape)"
   ]
  },
  {
   "cell_type": "markdown",
   "metadata": {},
   "source": [
    "## Train, Valid, Test set 나누기"
   ]
  },
  {
   "cell_type": "code",
   "execution_count": 17,
   "metadata": {},
   "outputs": [],
   "source": [
    "# Train/Valid/Test ratio\n",
    "ratios=[.6, .2, .2]"
   ]
  },
  {
   "cell_type": "code",
   "execution_count": 18,
   "metadata": {},
   "outputs": [
    {
     "name": "stdout",
     "output_type": "stream",
     "text": [
      "Train 341 / Valid 113 / Test 115 samples.\n"
     ]
    }
   ],
   "source": [
    "train_cnt=int(data.size(0)*ratios[0])\n",
    "valid_cnt=int(data.size(0)*ratios[1])\n",
    "test_cnt=data.size(0)-train_cnt-valid_cnt\n",
    "cnts=[train_cnt, valid_cnt, test_cnt]\n",
    "\n",
    "print(\"Train %d / Valid %d / Test %d samples.\" % (train_cnt, valid_cnt, test_cnt))"
   ]
  },
  {
   "cell_type": "code",
   "execution_count": 19,
   "metadata": {},
   "outputs": [
    {
     "name": "stdout",
     "output_type": "stream",
     "text": [
      "torch.Size([341, 10]) torch.Size([341, 1])\n",
      "torch.Size([113, 10]) torch.Size([113, 1])\n",
      "torch.Size([115, 10]) torch.Size([115, 1])\n"
     ]
    }
   ],
   "source": [
    "indices=torch.randperm(data.size(0))\n",
    "\n",
    "x=torch.index_select(x, dim=0, index=indices)\n",
    "y=torch.index_select(y, dim=0, index=indices)\n",
    "\n",
    "x=x.split(cnts, dim=0)\n",
    "y=y.split(cnts, dim=0)\n",
    "\n",
    "for x_i, y_i in zip(x, y):\n",
    "    print(x_i.size(), y_i.size())"
   ]
  },
  {
   "cell_type": "markdown",
   "metadata": {},
   "source": [
    "You don't need to shuffle them, if you have fixed train/valid/test set."
   ]
  },
  {
   "cell_type": "markdown",
   "metadata": {},
   "source": [
    "## Set Hyper Parameters"
   ]
  },
  {
   "cell_type": "code",
   "execution_count": 39,
   "metadata": {},
   "outputs": [],
   "source": [
    "n_epochs=10000\n",
    "batch_size=128\n",
    "print_interval=500\n",
    "early_stop=100"
   ]
  },
  {
   "cell_type": "markdown",
   "metadata": {},
   "source": [
    "## Get dataLoaders"
   ]
  },
  {
   "cell_type": "code",
   "execution_count": 40,
   "metadata": {},
   "outputs": [],
   "source": [
    "from torch.utils.data import Dataset, DataLoader"
   ]
  },
  {
   "cell_type": "code",
   "execution_count": 41,
   "metadata": {},
   "outputs": [],
   "source": [
    "class CustomDataset(Dataset):\n",
    "    \n",
    "    def __init__(self, data,labels):\n",
    "        self.data=data\n",
    "        self.labels=labels\n",
    "        \n",
    "        super().__init__()\n",
    "    \n",
    "    def __len__(self):\n",
    "        return len(self.data)\n",
    "    \n",
    "    def __getitem__(self, idx):\n",
    "        return self.data[idx], self.labels[idx]"
   ]
  },
  {
   "cell_type": "code",
   "execution_count": 42,
   "metadata": {},
   "outputs": [
    {
     "name": "stdout",
     "output_type": "stream",
     "text": [
      "Train 341 / Valid 113 / Test 115 samples.\n"
     ]
    }
   ],
   "source": [
    "train_loader = DataLoader(\n",
    "    dataset=CustomDataset(x[0], y[0]),\n",
    "    batch_size=batch_size,\n",
    "    shuffle=True, # Allow shuffling only for training set.\n",
    ")\n",
    "valid_loader = DataLoader(\n",
    "    dataset=CustomDataset(x[1], y[1]),\n",
    "    batch_size=batch_size,\n",
    "    shuffle=False,\n",
    ")\n",
    "test_loader = DataLoader(\n",
    "    dataset=CustomDataset(x[2], y[2]),\n",
    "    batch_size=batch_size,\n",
    "    shuffle=False,\n",
    ")\n",
    "\n",
    "print(\"Train %d / Valid %d / Test %d samples.\" % (\n",
    "    len(train_loader.dataset),\n",
    "    len(valid_loader.dataset),\n",
    "    len(test_loader.dataset),\n",
    "))"
   ]
  },
  {
   "cell_type": "markdown",
   "metadata": {},
   "source": [
    "## Build Model & Optimizer"
   ]
  },
  {
   "cell_type": "code",
   "execution_count": 43,
   "metadata": {},
   "outputs": [
    {
     "data": {
      "text/plain": [
       "Sequential(\n",
       "  (0): Linear(in_features=10, out_features=6, bias=True)\n",
       "  (1): LeakyReLU(negative_slope=0.01)\n",
       "  (2): Linear(in_features=6, out_features=5, bias=True)\n",
       "  (3): LeakyReLU(negative_slope=0.01)\n",
       "  (4): Linear(in_features=5, out_features=4, bias=True)\n",
       "  (5): LeakyReLU(negative_slope=0.01)\n",
       "  (6): Linear(in_features=4, out_features=3, bias=True)\n",
       "  (7): LeakyReLU(negative_slope=0.01)\n",
       "  (8): Linear(in_features=3, out_features=1, bias=True)\n",
       "  (9): Sigmoid()\n",
       ")"
      ]
     },
     "execution_count": 43,
     "metadata": {},
     "output_type": "execute_result"
    }
   ],
   "source": [
    "model=nn.Sequential(\n",
    "    nn.Linear(x[0].size(-1), 6),\n",
    "    nn.LeakyReLU(),\n",
    "    nn.Linear(6,5),\n",
    "    nn.LeakyReLU(),\n",
    "    nn.Linear(5,4),\n",
    "    nn.LeakyReLU(),\n",
    "    nn.Linear(4,3),\n",
    "    nn.LeakyReLU(),\n",
    "    nn.Linear(3,y[0].size(-1)),\n",
    "    nn.Sigmoid()\n",
    ")\n",
    "\n",
    "model"
   ]
  },
  {
   "cell_type": "code",
   "execution_count": 44,
   "metadata": {},
   "outputs": [],
   "source": [
    "optimizer= optim.Adam(model.parameters())"
   ]
  },
  {
   "cell_type": "markdown",
   "metadata": {},
   "source": [
    "## Train"
   ]
  },
  {
   "cell_type": "code",
   "execution_count": 45,
   "metadata": {},
   "outputs": [],
   "source": [
    "from copy import deepcopy\n",
    "\n",
    "lowest_loss=np.inf\n",
    "best_model=None\n",
    "\n",
    "lowest_epoch=np.inf"
   ]
  },
  {
   "cell_type": "code",
   "execution_count": 46,
   "metadata": {},
   "outputs": [
    {
     "name": "stdout",
     "output_type": "stream",
     "text": [
      "Epoch 500: train loss=3.1979e-01  valid_loss=2.8456e-01  lowest_loss=2.8164e-01\n",
      "Epoch 1000: train loss=2.6796e-01  valid_loss=2.7735e-01  lowest_loss=2.5604e-01\n",
      "Epoch 1500: train loss=2.5429e-01  valid_loss=2.4611e-01  lowest_loss=2.3940e-01\n",
      "Epoch 2000: train loss=2.3447e-01  valid_loss=2.1911e-01  lowest_loss=2.1784e-01\n",
      "Epoch 2500: train loss=1.8603e-01  valid_loss=2.1794e-01  lowest_loss=1.9507e-01\n",
      "There is no improvement during last 100 epochs.\n",
      "The best validation loss from epoch 2760: 1.9208e-01\n"
     ]
    },
    {
     "data": {
      "text/plain": [
       "<All keys matched successfully>"
      ]
     },
     "execution_count": 46,
     "metadata": {},
     "output_type": "execute_result"
    }
   ],
   "source": [
    "train_history, valid_history=[], []\n",
    "\n",
    "for i in range(n_epochs):\n",
    "    model.train()\n",
    "    \n",
    "    # We can remove following code block.\n",
    "    # ------------------------------------------------------\n",
    "    # indices = torch.randperm(x[0].size(0))\n",
    "    # x_ = torch.index_select(x[0], dim=0, index=indices)\n",
    "    # y_ = torch.index_select(y[0], dim=0, index=indices)\n",
    "    #\n",
    "    # x_ = x_.split(batch_size, dim=0)\n",
    "    # y_ = y_.split(batch_size, dim=0)\n",
    "    # ------------------------------------------------------\n",
    "    \n",
    "    train_loss, valid_loss =0, 0\n",
    "    y_hat=[]\n",
    "    \n",
    "    for x_i, y_i in train_loader: #torch.Size([341, 10]) torch.Size([341, 1]), minibatch만큼 train_load 안에 생성이 되어 있음\n",
    "        y_hat_i=model(x_i)\n",
    "        loss=F.binary_cross_entropy(y_hat_i, y_i)\n",
    "        \n",
    "        optimizer.zero_grad()\n",
    "        loss.backward()\n",
    "        \n",
    "        optimizer.step()\n",
    "        train_loss+=float(loss)  # This is very important to prevent memory leak.\n",
    "    \n",
    "    train_loss = train_loss / len(train_loader) #평균적인 train_loss, 미니배치 한 개당 train loss\n",
    "    \n",
    "    model.eval()\n",
    "    with torch.no_grad():\n",
    "        valid_loss=0\n",
    "        \n",
    "        for x_i, y_i in valid_loader:\n",
    "            y_hat_i=model(x_i)\n",
    "            loss=F.binary_cross_entropy(y_hat_i, y_i)\n",
    "            \n",
    "            valid_loss+=float(loss)\n",
    "            \n",
    "            y_hat+=[y_hat_i] #1 minibatch에 대한 출력값을 모아놓은 것\n",
    "            \n",
    "    valid_loss=valid_loss/len(valid_loader) #평균적인 valid_loss, 미니배치 한 개당 valid loss\n",
    "    \n",
    "    train_history+=[train_loss] #1 epoch 당 평균 train_loss\n",
    "    valid_history+=[valid_loss] #1 epoch 당 평균 valid_loss\n",
    "\n",
    "    if(i+1) % print_interval==0:\n",
    "        print('Epoch %d: train loss=%.4e  valid_loss=%.4e  lowest_loss=%.4e' % (\n",
    "            i + 1,\n",
    "            train_loss,\n",
    "            valid_loss,\n",
    "            lowest_loss,\n",
    "        ))\n",
    "    \n",
    "    if valid_loss<=lowest_loss:\n",
    "        lowest_loss=valid_loss\n",
    "        lowest_epoch=i\n",
    "        \n",
    "        best_model=deepcopy(model.state_dict())\n",
    "    else:\n",
    "        if early_stop>0 and lowest_epoch+early_stop<i+1:\n",
    "            print(\"There is no improvement during last %d epochs.\" % early_stop)\n",
    "            break\n",
    "\n",
    "print(\"The best validation loss from epoch %d: %.4e\" % (lowest_epoch + 1, lowest_loss))\n",
    "model.load_state_dict(best_model)  "
   ]
  },
  {
   "cell_type": "markdown",
   "metadata": {},
   "source": [
    "## Loss History"
   ]
  },
  {
   "cell_type": "code",
   "execution_count": 47,
   "metadata": {
    "scrolled": true
   },
   "outputs": [
    {
     "data": {
      "image/png": "[encoded data removed]",
      "text/plain": [
       "<Figure size 1440x720 with 1 Axes>"
      ]
     },
     "metadata": {
      "needs_background": "light"
     },
     "output_type": "display_data"
    }
   ],
   "source": [
    "plot_from = 2\n",
    "\n",
    "plt.figure(figsize=(20, 10))\n",
    "plt.grid(True)\n",
    "plt.title(\"Train / Valid Loss History\")\n",
    "plt.plot(\n",
    "    range(plot_from, len(train_history)), train_history[plot_from:],\n",
    "    range(plot_from, len(valid_history)), valid_history[plot_from:],\n",
    ")\n",
    "plt.yscale('log')\n",
    "plt.show()"
   ]
  },
  {
   "cell_type": "markdown",
   "metadata": {},
   "source": [
    "## Let's see the result!"
   ]
  },
  {
   "cell_type": "code",
   "execution_count": 59,
   "metadata": {},
   "outputs": [],
   "source": [
    "test_loss=0\n",
    "y_hat=[]\n",
    "\n",
    "model.eval()\n",
    "with torch.no_grad():\n",
    "    for x_i, y_i in test_loader:\n",
    "        y_hat_i=model(x_i)\n",
    "        loss=F.binary_cross_entropy(y_hat_i, y_i)\n",
    "        \n",
    "        test_loss+=loss # Gradient is already detached\n",
    "        \n",
    "        y_hat+=[y_hat_i]"
   ]
  },
  {
   "cell_type": "code",
   "execution_count": 60,
   "metadata": {},
   "outputs": [
    {
     "data": {
      "text/plain": [
       "tensor([[9.8568e-01],\n",
       "        [9.7974e-01],\n",
       "        [9.8357e-01],\n",
       "        [1.5056e-05],\n",
       "        [9.9183e-01],\n",
       "        [9.8893e-01],\n",
       "        [2.0908e-04],\n",
       "        [9.8523e-01],\n",
       "        [9.0286e-01],\n",
       "        [8.6352e-03],\n",
       "        [4.2511e-08],\n",
       "        [9.7910e-01],\n",
       "        [9.8680e-01],\n",
       "        [2.1236e-02],\n",
       "        [9.9369e-01],\n",
       "        [9.8175e-01],\n",
       "        [9.9196e-01],\n",
       "        [3.1821e-02],\n",
       "        [9.0648e-01],\n",
       "        [6.6548e-01],\n",
       "        [3.9422e-01],\n",
       "        [2.9805e-04],\n",
       "        [9.7794e-01],\n",
       "        [1.5928e-03],\n",
       "        [9.9123e-01],\n",
       "        [9.7502e-01],\n",
       "        [9.3956e-01],\n",
       "        [1.1076e-08],\n",
       "        [1.6163e-04],\n",
       "        [6.9091e-01],\n",
       "        [8.1093e-01],\n",
       "        [9.4430e-01],\n",
       "        [1.1408e-05],\n",
       "        [7.2880e-01],\n",
       "        [9.3418e-01],\n",
       "        [9.7360e-01],\n",
       "        [9.9186e-01],\n",
       "        [1.1288e-01],\n",
       "        [9.1747e-01],\n",
       "        [9.8011e-01],\n",
       "        [6.5163e-01],\n",
       "        [9.6611e-01],\n",
       "        [8.3416e-01],\n",
       "        [9.9709e-01],\n",
       "        [9.6738e-01],\n",
       "        [9.6956e-01],\n",
       "        [1.0513e-02],\n",
       "        [9.9416e-01],\n",
       "        [9.6426e-01],\n",
       "        [2.6322e-03],\n",
       "        [9.7436e-01],\n",
       "        [7.7445e-01],\n",
       "        [9.9351e-04],\n",
       "        [9.5434e-02],\n",
       "        [6.1343e-04],\n",
       "        [9.2479e-01],\n",
       "        [8.0481e-01],\n",
       "        [9.4815e-01],\n",
       "        [9.7865e-01],\n",
       "        [1.0314e-04],\n",
       "        [9.9725e-01],\n",
       "        [9.9257e-01],\n",
       "        [9.0161e-01],\n",
       "        [8.6972e-01],\n",
       "        [9.8738e-01],\n",
       "        [9.2264e-01],\n",
       "        [3.6468e-05],\n",
       "        [5.2211e-01],\n",
       "        [1.6575e-03],\n",
       "        [9.5270e-01],\n",
       "        [9.9573e-01],\n",
       "        [2.6677e-02],\n",
       "        [5.3605e-04],\n",
       "        [5.6096e-02],\n",
       "        [2.4943e-05],\n",
       "        [8.9861e-01],\n",
       "        [4.1366e-12],\n",
       "        [9.1146e-01],\n",
       "        [8.7840e-01],\n",
       "        [5.8458e-01],\n",
       "        [1.0227e-02],\n",
       "        [9.8104e-01],\n",
       "        [6.6880e-01],\n",
       "        [8.2197e-01],\n",
       "        [9.5661e-01],\n",
       "        [9.9375e-01],\n",
       "        [8.2710e-01],\n",
       "        [9.9323e-01],\n",
       "        [2.9139e-02],\n",
       "        [8.0585e-04],\n",
       "        [5.4498e-01],\n",
       "        [9.7058e-01],\n",
       "        [1.1368e-05],\n",
       "        [4.7064e-04],\n",
       "        [7.4118e-04],\n",
       "        [4.6864e-05],\n",
       "        [1.7546e-01],\n",
       "        [9.8910e-01],\n",
       "        [1.6596e-12],\n",
       "        [9.6226e-01],\n",
       "        [3.6141e-03],\n",
       "        [9.5090e-01],\n",
       "        [9.6918e-01],\n",
       "        [5.3442e-05],\n",
       "        [8.0187e-04],\n",
       "        [9.9042e-01],\n",
       "        [9.8380e-01],\n",
       "        [6.8614e-01],\n",
       "        [5.4470e-04],\n",
       "        [8.5166e-01],\n",
       "        [3.7131e-04],\n",
       "        [8.7690e-01],\n",
       "        [9.8713e-01],\n",
       "        [4.4527e-05],\n",
       "        [9.7755e-01]])"
      ]
     },
     "execution_count": 60,
     "metadata": {},
     "output_type": "execute_result"
    }
   ],
   "source": [
    "y_hat[0]"
   ]
  },
  {
   "cell_type": "code",
   "execution_count": 61,
   "metadata": {},
   "outputs": [
    {
     "data": {
      "text/plain": [
       "torch.Size([115, 1])"
      ]
     },
     "execution_count": 61,
     "metadata": {},
     "output_type": "execute_result"
    }
   ],
   "source": [
    "y_hat[0].shape"
   ]
  },
  {
   "cell_type": "code",
   "execution_count": 62,
   "metadata": {},
   "outputs": [
    {
     "name": "stdout",
     "output_type": "stream",
     "text": [
      "Test loss: 1.4887e-01\n"
     ]
    }
   ],
   "source": [
    "test_loss=test_loss/len(test_loader)\n",
    "y_hat=torch.cat(y_hat, dim=0) #tensor를 합치는 방법으로 여기서는 list+tensor 형태를 tensor로 만들어줌\n",
    "\n",
    "print(\"Test loss: %.4e\" % test_loss)"
   ]
  },
  {
   "cell_type": "code",
   "execution_count": 63,
   "metadata": {},
   "outputs": [
    {
     "data": {
      "text/plain": [
       "tensor([[9.8568e-01],\n",
       "        [9.7974e-01],\n",
       "        [9.8357e-01],\n",
       "        [1.5056e-05],\n",
       "        [9.9183e-01],\n",
       "        [9.8893e-01],\n",
       "        [2.0908e-04],\n",
       "        [9.8523e-01],\n",
       "        [9.0286e-01],\n",
       "        [8.6352e-03],\n",
       "        [4.2511e-08],\n",
       "        [9.7910e-01],\n",
       "        [9.8680e-01],\n",
       "        [2.1236e-02],\n",
       "        [9.9369e-01],\n",
       "        [9.8175e-01],\n",
       "        [9.9196e-01],\n",
       "        [3.1821e-02],\n",
       "        [9.0648e-01],\n",
       "        [6.6548e-01],\n",
       "        [3.9422e-01],\n",
       "        [2.9805e-04],\n",
       "        [9.7794e-01],\n",
       "        [1.5928e-03],\n",
       "        [9.9123e-01],\n",
       "        [9.7502e-01],\n",
       "        [9.3956e-01],\n",
       "        [1.1076e-08],\n",
       "        [1.6163e-04],\n",
       "        [6.9091e-01],\n",
       "        [8.1093e-01],\n",
       "        [9.4430e-01],\n",
       "        [1.1408e-05],\n",
       "        [7.2880e-01],\n",
       "        [9.3418e-01],\n",
       "        [9.7360e-01],\n",
       "        [9.9186e-01],\n",
       "        [1.1288e-01],\n",
       "        [9.1747e-01],\n",
       "        [9.8011e-01],\n",
       "        [6.5163e-01],\n",
       "        [9.6611e-01],\n",
       "        [8.3416e-01],\n",
       "        [9.9709e-01],\n",
       "        [9.6738e-01],\n",
       "        [9.6956e-01],\n",
       "        [1.0513e-02],\n",
       "        [9.9416e-01],\n",
       "        [9.6426e-01],\n",
       "        [2.6322e-03],\n",
       "        [9.7436e-01],\n",
       "        [7.7445e-01],\n",
       "        [9.9351e-04],\n",
       "        [9.5434e-02],\n",
       "        [6.1343e-04],\n",
       "        [9.2479e-01],\n",
       "        [8.0481e-01],\n",
       "        [9.4815e-01],\n",
       "        [9.7865e-01],\n",
       "        [1.0314e-04],\n",
       "        [9.9725e-01],\n",
       "        [9.9257e-01],\n",
       "        [9.0161e-01],\n",
       "        [8.6972e-01],\n",
       "        [9.8738e-01],\n",
       "        [9.2264e-01],\n",
       "        [3.6468e-05],\n",
       "        [5.2211e-01],\n",
       "        [1.6575e-03],\n",
       "        [9.5270e-01],\n",
       "        [9.9573e-01],\n",
       "        [2.6677e-02],\n",
       "        [5.3605e-04],\n",
       "        [5.6096e-02],\n",
       "        [2.4943e-05],\n",
       "        [8.9861e-01],\n",
       "        [4.1366e-12],\n",
       "        [9.1146e-01],\n",
       "        [8.7840e-01],\n",
       "        [5.8458e-01],\n",
       "        [1.0227e-02],\n",
       "        [9.8104e-01],\n",
       "        [6.6880e-01],\n",
       "        [8.2197e-01],\n",
       "        [9.5661e-01],\n",
       "        [9.9375e-01],\n",
       "        [8.2710e-01],\n",
       "        [9.9323e-01],\n",
       "        [2.9139e-02],\n",
       "        [8.0585e-04],\n",
       "        [5.4498e-01],\n",
       "        [9.7058e-01],\n",
       "        [1.1368e-05],\n",
       "        [4.7064e-04],\n",
       "        [7.4118e-04],\n",
       "        [4.6864e-05],\n",
       "        [1.7546e-01],\n",
       "        [9.8910e-01],\n",
       "        [1.6596e-12],\n",
       "        [9.6226e-01],\n",
       "        [3.6141e-03],\n",
       "        [9.5090e-01],\n",
       "        [9.6918e-01],\n",
       "        [5.3442e-05],\n",
       "        [8.0187e-04],\n",
       "        [9.9042e-01],\n",
       "        [9.8380e-01],\n",
       "        [6.8614e-01],\n",
       "        [5.4470e-04],\n",
       "        [8.5166e-01],\n",
       "        [3.7131e-04],\n",
       "        [8.7690e-01],\n",
       "        [9.8713e-01],\n",
       "        [4.4527e-05],\n",
       "        [9.7755e-01]])"
      ]
     },
     "execution_count": 63,
     "metadata": {},
     "output_type": "execute_result"
    }
   ],
   "source": [
    "y_hat"
   ]
  },
  {
   "cell_type": "code",
   "execution_count": 64,
   "metadata": {},
   "outputs": [
    {
     "data": {
      "text/plain": [
       "torch.Size([115, 1])"
      ]
     },
     "execution_count": 64,
     "metadata": {},
     "output_type": "execute_result"
    }
   ],
   "source": [
    "y_hat.shape"
   ]
  },
  {
   "cell_type": "code",
   "execution_count": 65,
   "metadata": {},
   "outputs": [
    {
     "name": "stdout",
     "output_type": "stream",
     "text": [
      "Test Accuracy: 0.9565\n"
     ]
    }
   ],
   "source": [
    "correct_cnt = (y[2] == (y_hat > .5)).sum()\n",
    "total_cnt = float(y[2].size(0))\n",
    "\n",
    "print('Test Accuracy: %.4f' % (correct_cnt / total_cnt))"
   ]
  }
 ],
 "metadata": {
  "kernelspec": {
   "display_name": "Python 3",
   "language": "python",
   "name": "python3"
  },
  "language_info": {
   "codemirror_mode": {
    "name": "ipython",
    "version": 3
   },
   "file_extension": ".py",
   "mimetype": "text/x-python",
   "name": "python",
   "nbconvert_exporter": "python",
   "pygments_lexer": "ipython3",
   "version": "3.7.7"
  }
 },
 "nbformat": 4,
 "nbformat_minor": 4
}
