{
 "cells": [
  {
   "cell_type": "code",
   "execution_count": 29,
   "metadata": {},
   "outputs": [],
   "source": [
    "import numpy as np\n",
    "import matplotlib.pyplot as plt"
   ]
  },
  {
   "cell_type": "code",
   "execution_count": 3,
   "metadata": {},
   "outputs": [],
   "source": [
    "import torch\n",
    "import torch.nn as nn\n",
    "import torch.optim as optim"
   ]
  },
  {
   "cell_type": "code",
   "execution_count": 4,
   "metadata": {},
   "outputs": [],
   "source": [
    "from utils import load_mnist\n",
    "from trainer import Trainer"
   ]
  },
  {
   "cell_type": "code",
   "execution_count": 5,
   "metadata": {},
   "outputs": [],
   "source": [
    "def show_image(x):\n",
    "    if x.dim() == 1:\n",
    "        x = x.view(int(x.size(0) ** .5), -1)\n",
    "    \n",
    "    plt.imshow(x, cmap='gray')\n",
    "    plt.show()"
   ]
  },
  {
   "cell_type": "code",
   "execution_count": 6,
   "metadata": {},
   "outputs": [
    {
     "name": "stdout",
     "output_type": "stream",
     "text": [
      "Namespace(batch_size=256, btl_size=2, n_epochs=50, train_ratio=0.8, verbose=1)\n"
     ]
    }
   ],
   "source": [
    "from argparse import Namespace\n",
    "\n",
    "config = {\n",
    "    'train_ratio': .8,\n",
    "    'batch_size': 256,\n",
    "    'n_epochs': 50,\n",
    "    'verbose': 1,\n",
    "    'btl_size': 2\n",
    "}\n",
    "\n",
    "config = Namespace(**config)\n",
    "\n",
    "print(config)"
   ]
  },
  {
   "cell_type": "code",
   "execution_count": 7,
   "metadata": {},
   "outputs": [
    {
     "name": "stdout",
     "output_type": "stream",
     "text": [
      "Train: torch.Size([48000, 784]) torch.Size([48000])\n",
      "Valid: torch.Size([12000, 784]) torch.Size([12000])\n",
      "Test: torch.Size([10000, 784]) torch.Size([10000])\n"
     ]
    }
   ],
   "source": [
    "train_x, train_y = load_mnist(flatten=True)\n",
    "test_x, test_y = load_mnist(is_train=False, flatten=True)\n",
    "\n",
    "train_cnt = int(train_x.size(0) * config.train_ratio)\n",
    "valid_cnt = train_x.size(0) - train_cnt\n",
    "\n",
    "# Shuffle dataset to split into train/valid set.\n",
    "indices = torch.randperm(train_x.size(0))\n",
    "train_x, valid_x = torch.index_select(\n",
    "    train_x,\n",
    "    dim=0,\n",
    "    index=indices\n",
    ").split([train_cnt, valid_cnt], dim=0)\n",
    "train_y, valid_y = torch.index_select(\n",
    "    train_y,\n",
    "    dim=0,\n",
    "    index=indices\n",
    ").split([train_cnt, valid_cnt], dim=0)\n",
    "\n",
    "print(\"Train:\", train_x.shape, train_y.shape)\n",
    "print(\"Valid:\", valid_x.shape, valid_y.shape)\n",
    "print(\"Test:\", test_x.shape, test_y.shape)"
   ]
  },
  {
   "cell_type": "code",
   "execution_count": 8,
   "metadata": {},
   "outputs": [],
   "source": [
    "from model import Autoencoder"
   ]
  },
  {
   "cell_type": "code",
   "execution_count": 9,
   "metadata": {},
   "outputs": [],
   "source": [
    "model = Autoencoder(btl_size=config.btl_size)\n",
    "optimizer = optim.Adam(model.parameters())\n",
    "crit = nn.MSELoss()\n",
    "\n",
    "trainer = Trainer(model, optimizer, crit)"
   ]
  },
  {
   "cell_type": "code",
   "execution_count": 10,
   "metadata": {},
   "outputs": [
    {
     "name": "stdout",
     "output_type": "stream",
     "text": [
      "Epoch(1/50): train_loss=7.4445e-02  valid_loss=5.0569e-02  lowest_loss=5.0569e-02\n",
      "Epoch(2/50): train_loss=4.9156e-02  valid_loss=4.6598e-02  lowest_loss=4.6598e-02\n",
      "Epoch(3/50): train_loss=4.6619e-02  valid_loss=4.4794e-02  lowest_loss=4.4794e-02\n",
      "Epoch(4/50): train_loss=4.5531e-02  valid_loss=4.4071e-02  lowest_loss=4.4071e-02\n",
      "Epoch(5/50): train_loss=4.4342e-02  valid_loss=4.4112e-02  lowest_loss=4.4071e-02\n",
      "Epoch(6/50): train_loss=4.3894e-02  valid_loss=4.2270e-02  lowest_loss=4.2270e-02\n",
      "Epoch(7/50): train_loss=4.3375e-02  valid_loss=4.2197e-02  lowest_loss=4.2197e-02\n",
      "Epoch(8/50): train_loss=4.2621e-02  valid_loss=4.0423e-02  lowest_loss=4.0423e-02\n",
      "Epoch(9/50): train_loss=4.2566e-02  valid_loss=4.1780e-02  lowest_loss=4.0423e-02\n",
      "Epoch(10/50): train_loss=4.2007e-02  valid_loss=4.0746e-02  lowest_loss=4.0423e-02\n",
      "Epoch(11/50): train_loss=4.1465e-02  valid_loss=4.0310e-02  lowest_loss=4.0310e-02\n",
      "Epoch(12/50): train_loss=4.1509e-02  valid_loss=3.9890e-02  lowest_loss=3.9890e-02\n",
      "Epoch(13/50): train_loss=4.1117e-02  valid_loss=4.0172e-02  lowest_loss=3.9890e-02\n",
      "Epoch(14/50): train_loss=4.0541e-02  valid_loss=3.9142e-02  lowest_loss=3.9142e-02\n",
      "Epoch(15/50): train_loss=4.0477e-02  valid_loss=3.9309e-02  lowest_loss=3.9142e-02\n",
      "Epoch(16/50): train_loss=4.0438e-02  valid_loss=3.9156e-02  lowest_loss=3.9142e-02\n",
      "Epoch(17/50): train_loss=4.0038e-02  valid_loss=3.9655e-02  lowest_loss=3.9142e-02\n",
      "Epoch(18/50): train_loss=4.0182e-02  valid_loss=3.8898e-02  lowest_loss=3.8898e-02\n",
      "Epoch(19/50): train_loss=4.0129e-02  valid_loss=3.8824e-02  lowest_loss=3.8824e-02\n",
      "Epoch(20/50): train_loss=3.9687e-02  valid_loss=3.8169e-02  lowest_loss=3.8169e-02\n",
      "Epoch(21/50): train_loss=3.9444e-02  valid_loss=3.7807e-02  lowest_loss=3.7807e-02\n",
      "Epoch(22/50): train_loss=3.9154e-02  valid_loss=3.8195e-02  lowest_loss=3.7807e-02\n",
      "Epoch(23/50): train_loss=3.8888e-02  valid_loss=3.7527e-02  lowest_loss=3.7527e-02\n",
      "Epoch(24/50): train_loss=3.8986e-02  valid_loss=3.8630e-02  lowest_loss=3.7527e-02\n",
      "Epoch(25/50): train_loss=3.9392e-02  valid_loss=3.8195e-02  lowest_loss=3.7527e-02\n",
      "Epoch(26/50): train_loss=3.9015e-02  valid_loss=3.7607e-02  lowest_loss=3.7527e-02\n",
      "Epoch(27/50): train_loss=3.8768e-02  valid_loss=3.7740e-02  lowest_loss=3.7527e-02\n",
      "Epoch(28/50): train_loss=3.8460e-02  valid_loss=3.7096e-02  lowest_loss=3.7096e-02\n",
      "Epoch(29/50): train_loss=3.8873e-02  valid_loss=3.8859e-02  lowest_loss=3.7096e-02\n",
      "Epoch(30/50): train_loss=3.8603e-02  valid_loss=3.7638e-02  lowest_loss=3.7096e-02\n",
      "Epoch(31/50): train_loss=3.8655e-02  valid_loss=3.7692e-02  lowest_loss=3.7096e-02\n",
      "Epoch(32/50): train_loss=3.8700e-02  valid_loss=3.7634e-02  lowest_loss=3.7096e-02\n",
      "Epoch(33/50): train_loss=3.8446e-02  valid_loss=3.7539e-02  lowest_loss=3.7096e-02\n",
      "Epoch(34/50): train_loss=3.8335e-02  valid_loss=3.6819e-02  lowest_loss=3.6819e-02\n",
      "Epoch(35/50): train_loss=3.7948e-02  valid_loss=3.7078e-02  lowest_loss=3.6819e-02\n",
      "Epoch(36/50): train_loss=3.8608e-02  valid_loss=3.6734e-02  lowest_loss=3.6734e-02\n",
      "Epoch(37/50): train_loss=3.8036e-02  valid_loss=3.6559e-02  lowest_loss=3.6559e-02\n",
      "Epoch(38/50): train_loss=3.7586e-02  valid_loss=3.6145e-02  lowest_loss=3.6145e-02\n",
      "Epoch(39/50): train_loss=3.7337e-02  valid_loss=3.6442e-02  lowest_loss=3.6145e-02\n",
      "Epoch(40/50): train_loss=3.7966e-02  valid_loss=3.6068e-02  lowest_loss=3.6068e-02\n",
      "Epoch(41/50): train_loss=3.7838e-02  valid_loss=3.6918e-02  lowest_loss=3.6068e-02\n",
      "Epoch(42/50): train_loss=3.8410e-02  valid_loss=3.7214e-02  lowest_loss=3.6068e-02\n",
      "Epoch(43/50): train_loss=3.8173e-02  valid_loss=3.6575e-02  lowest_loss=3.6068e-02\n",
      "Epoch(44/50): train_loss=3.7785e-02  valid_loss=3.7812e-02  lowest_loss=3.6068e-02\n",
      "Epoch(45/50): train_loss=3.8259e-02  valid_loss=3.7033e-02  lowest_loss=3.6068e-02\n",
      "Epoch(46/50): train_loss=3.8004e-02  valid_loss=3.7280e-02  lowest_loss=3.6068e-02\n",
      "Epoch(47/50): train_loss=3.7639e-02  valid_loss=3.6563e-02  lowest_loss=3.6068e-02\n",
      "Epoch(48/50): train_loss=3.7417e-02  valid_loss=3.6327e-02  lowest_loss=3.6068e-02\n",
      "Epoch(49/50): train_loss=3.7294e-02  valid_loss=3.6221e-02  lowest_loss=3.6068e-02\n",
      "Epoch(50/50): train_loss=3.7278e-02  valid_loss=3.6090e-02  lowest_loss=3.6068e-02\n"
     ]
    }
   ],
   "source": [
    "trainer.train((train_x, train_x), (valid_x, valid_x), config)"
   ]
  },
  {
   "cell_type": "markdown",
   "metadata": {},
   "source": [
    "## Mean value in each space"
   ]
  },
  {
   "cell_type": "code",
   "execution_count": 14,
   "metadata": {},
   "outputs": [
    {
     "data": {
      "image/png": "[encoded data removed]",
      "text/plain": [
       "<Figure size 432x288 with 1 Axes>"
      ]
     },
     "metadata": {
      "needs_background": "light"
     },
     "output_type": "display_data"
    },
    {
     "data": {
      "image/png": "[encoded data removed]",
      "text/plain": [
       "<Figure size 432x288 with 1 Axes>"
      ]
     },
     "metadata": {
      "needs_background": "light"
     },
     "output_type": "display_data"
    },
    {
     "data": {
      "image/png": "[encoded data removed]",
      "text/plain": [
       "<Figure size 432x288 with 1 Axes>"
      ]
     },
     "metadata": {
      "needs_background": "light"
     },
     "output_type": "display_data"
    },
    {
     "data": {
      "image/png": "[encoded data removed]",
      "text/plain": [
       "<Figure size 432x288 with 1 Axes>"
      ]
     },
     "metadata": {
      "needs_background": "light"
     },
     "output_type": "display_data"
    }
   ],
   "source": [
    "with torch.no_grad():\n",
    "    import random\n",
    "    \n",
    "    index1=int(random.random()*test_x.size(0))\n",
    "    index2=int(random.random()*test_x.size(0))\n",
    "    \n",
    "    #\n",
    "    z1=model.encoder(test_x[index1].view(1, -1))\n",
    "    z2=model.encoder(test_x[index2].view(1,-1))\n",
    "    \n",
    "    recon=model.decoder((z1+z2)/2).squeeze()\n",
    "    \n",
    "    show_image(test_x[index1])\n",
    "    show_image(test_x[index2])\n",
    "    show_image((test_x[index1]+test_x[index2])/2)\n",
    "    show_image(recon)"
   ]
  }
 ],
 "metadata": {
  "kernelspec": {
   "display_name": "Python 3",
   "language": "python",
   "name": "python3"
  },
  "language_info": {
   "codemirror_mode": {
    "name": "ipython",
    "version": 3
   },
   "file_extension": ".py",
   "mimetype": "text/x-python",
   "name": "python",
   "nbconvert_exporter": "python",
   "pygments_lexer": "ipython3",
   "version": "3.7.7"
  }
 },
 "nbformat": 4,
 "nbformat_minor": 4
}
