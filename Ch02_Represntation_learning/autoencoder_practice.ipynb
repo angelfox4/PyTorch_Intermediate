{
 "cells": [
  {
   "cell_type": "code",
   "execution_count": 33,
   "metadata": {},
   "outputs": [],
   "source": [
    "import numpy as np\n",
    "import matplotlib.pyplot as plt"
   ]
  },
  {
   "cell_type": "code",
   "execution_count": 34,
   "metadata": {},
   "outputs": [],
   "source": [
    "import torch\n",
    "import torch.nn as nn\n",
    "import torch.optim as optim"
   ]
  },
  {
   "cell_type": "code",
   "execution_count": 35,
   "metadata": {},
   "outputs": [],
   "source": [
    "from utils import load_mnist\n",
    "from trainer import Trainer"
   ]
  },
  {
   "cell_type": "code",
   "execution_count": 49,
   "metadata": {},
   "outputs": [],
   "source": [
    "def show_image(x):\n",
    "    if x.dim()==1:\n",
    "        x=x.view(int(x.size(0)**.5), -1)\n",
    "        \n",
    "    plt.imshow(x, cmap='gray')\n",
    "    plt.show()"
   ]
  },
  {
   "cell_type": "markdown",
   "metadata": {},
   "source": [
    "### config 지정"
   ]
  },
  {
   "cell_type": "code",
   "execution_count": 19,
   "metadata": {},
   "outputs": [
    {
     "name": "stdout",
     "output_type": "stream",
     "text": [
      "Namespace(batch_size=256, btl_size=2, n_epochs=10, train_ratio=0.8, verbose=1)\n"
     ]
    }
   ],
   "source": [
    "from argparse import Namespace\n",
    "\n",
    "config={\n",
    "    'train_ratio':.8,\n",
    "    'batch_size' :256,\n",
    "    'n_epochs':10,\n",
    "    'verbose':1,\n",
    "    'btl_size':2\n",
    "}\n",
    "#참고로 최적의 btl_size는 10~20이어서 2로 설정했을 때는 너무 많이 압축한 것이 됨\n",
    "\n",
    "config=Namespace(**config) #마치 argumentparser를 통과한 것처럼 만들기 위해 씀\n",
    "\n",
    "print(config)"
   ]
  },
  {
   "cell_type": "markdown",
   "metadata": {},
   "source": [
    "### 1강의 train.py에서의 작동과 유사"
   ]
  },
  {
   "cell_type": "code",
   "execution_count": 20,
   "metadata": {},
   "outputs": [
    {
     "name": "stdout",
     "output_type": "stream",
     "text": [
      "Train : torch.Size([48000, 784]) torch.Size([48000])\n",
      "48000\n",
      "Valid : torch.Size([12000, 784]) torch.Size([12000])\n",
      "12000\n",
      "Test : torch.Size([10000, 784]) torch.Size([10000])\n"
     ]
    }
   ],
   "source": [
    "#train, test set 분리하기\n",
    "train_x, train_y=load_mnist(flatten=True)\n",
    "test_x, test_y=load_mnist(is_train=False, flatten=True)\n",
    "\n",
    "#train, valid 개수 설정\n",
    "train_cnt=int(train_x.size(0)*config.train_ratio)\n",
    "valid_cnt=train_x.size(0)-train_cnt\n",
    "\n",
    "#Shuffle dataset to split into train/valid set\n",
    "indices=torch.randperm(train_x.size(0))\n",
    "train_x, valid_x=torch.index_select(train_x, dim=0, index=indices).split([train_cnt, valid_cnt], dim=0)\n",
    "train_y, valid_y=torch.index_select(train_y, dim=0, index=indices).split([train_cnt, valid_cnt], dim=0)\n",
    "\n",
    "print(\"Train :\", train_x.shape, train_y.shape)\n",
    "print(train_cnt)\n",
    "print(\"Valid :\", valid_x.shape, valid_y.shape)\n",
    "print(valid_cnt)\n",
    "print(\"Test :\", test_x.shape, test_y.shape)\n"
   ]
  },
  {
   "cell_type": "markdown",
   "metadata": {},
   "source": [
    "### Train, valid"
   ]
  },
  {
   "cell_type": "code",
   "execution_count": 15,
   "metadata": {},
   "outputs": [],
   "source": [
    "from model import Autoencoder"
   ]
  },
  {
   "cell_type": "code",
   "execution_count": 21,
   "metadata": {},
   "outputs": [],
   "source": [
    "model= Autoencoder(btl_size=config.btl_size)\n",
    "optimizer=optim.Adam(model.parameters())\n",
    "crit=nn.MSELoss()\n",
    "\n",
    "trainer=Trainer(model, optimizer, crit)"
   ]
  },
  {
   "cell_type": "code",
   "execution_count": 22,
   "metadata": {},
   "outputs": [
    {
     "name": "stdout",
     "output_type": "stream",
     "text": [
      "Epoch(1/10): train_loss=7.2043e-02  valid_loss=4.7931e-02  lowest_loss=4.7931e-02\n",
      "Epoch(2/10): train_loss=4.7058e-02  valid_loss=4.4336e-02  lowest_loss=4.4336e-02\n",
      "Epoch(3/10): train_loss=4.4516e-02  valid_loss=4.2543e-02  lowest_loss=4.2543e-02\n",
      "Epoch(4/10): train_loss=4.3202e-02  valid_loss=4.1988e-02  lowest_loss=4.1988e-02\n",
      "Epoch(5/10): train_loss=4.2384e-02  valid_loss=4.0499e-02  lowest_loss=4.0499e-02\n",
      "Epoch(6/10): train_loss=4.1756e-02  valid_loss=4.0007e-02  lowest_loss=4.0007e-02\n",
      "Epoch(7/10): train_loss=4.1069e-02  valid_loss=3.9391e-02  lowest_loss=3.9391e-02\n",
      "Epoch(8/10): train_loss=4.0775e-02  valid_loss=3.9250e-02  lowest_loss=3.9250e-02\n",
      "Epoch(9/10): train_loss=4.0472e-02  valid_loss=3.8560e-02  lowest_loss=3.8560e-02\n",
      "Epoch(10/10): train_loss=4.0472e-02  valid_loss=3.8749e-02  lowest_loss=3.8560e-02\n"
     ]
    }
   ],
   "source": [
    "trainer.train((train_x, train_x), (valid_x, valid_x), config) #Autoencoder이기 때문에 자기자신이 나옴, 따라서 y를 쓰지 않음"
   ]
  },
  {
   "cell_type": "markdown",
   "metadata": {},
   "source": [
    "### Test"
   ]
  },
  {
   "cell_type": "code",
   "execution_count": 50,
   "metadata": {},
   "outputs": [
    {
     "data": {
      "image/png": "[encoded data removed]",
      "text/plain": [
       "<Figure size 432x288 with 1 Axes>"
      ]
     },
     "metadata": {
      "needs_background": "light"
     },
     "output_type": "display_data"
    },
    {
     "data": {
      "image/png": "[encoded data removed]",
      "text/plain": [
       "<Figure size 432x288 with 1 Axes>"
      ]
     },
     "metadata": {
      "needs_background": "light"
     },
     "output_type": "display_data"
    }
   ],
   "source": [
    "with torch.no_grad():\n",
    "    import random\n",
    "\n",
    "    index = int(random.random() * test_x.size(0))\n",
    "\n",
    "    recon = model(test_x[index].view(1, -1)).squeeze()\n",
    "\n",
    "    show_image(test_x[index])\n",
    "    show_image(recon)"
   ]
  },
  {
   "cell_type": "code",
   "execution_count": 38,
   "metadata": {},
   "outputs": [
    {
     "data": {
      "text/plain": [
       "5732"
      ]
     },
     "execution_count": 38,
     "metadata": {},
     "output_type": "execute_result"
    }
   ],
   "source": [
    " int(random.random() * test_x.size(0))"
   ]
  },
  {
   "cell_type": "code",
   "execution_count": 51,
   "metadata": {},
   "outputs": [
    {
     "data": {
      "text/plain": [
       "0.7951015845323185"
      ]
     },
     "execution_count": 51,
     "metadata": {},
     "output_type": "execute_result"
    }
   ],
   "source": [
    "random.random()"
   ]
  },
  {
   "cell_type": "code",
   "execution_count": 43,
   "metadata": {},
   "outputs": [
    {
     "data": {
      "text/plain": [
       "torch.Size([784])"
      ]
     },
     "execution_count": 43,
     "metadata": {},
     "output_type": "execute_result"
    }
   ],
   "source": [
    "test_x[5732].shape"
   ]
  },
  {
   "cell_type": "code",
   "execution_count": 45,
   "metadata": {},
   "outputs": [
    {
     "data": {
      "text/plain": [
       "torch.Size([1, 784])"
      ]
     },
     "execution_count": 45,
     "metadata": {},
     "output_type": "execute_result"
    }
   ],
   "source": [
    "test_x[5732].view(1,-1).shape"
   ]
  },
  {
   "cell_type": "code",
   "execution_count": 46,
   "metadata": {},
   "outputs": [
    {
     "data": {
      "text/plain": [
       "torch.Size([1, 784])"
      ]
     },
     "execution_count": 46,
     "metadata": {},
     "output_type": "execute_result"
    }
   ],
   "source": [
    "model(test_x[index].view(1, -1)).shape"
   ]
  },
  {
   "cell_type": "code",
   "execution_count": 42,
   "metadata": {},
   "outputs": [
    {
     "data": {
      "text/plain": [
       "torch.Size([784])"
      ]
     },
     "execution_count": 42,
     "metadata": {},
     "output_type": "execute_result"
    }
   ],
   "source": [
    "recon.shape"
   ]
  },
  {
   "cell_type": "markdown",
   "metadata": {},
   "source": [
    "### Latent Space\n",
    "encoder의 output이자 decoder의 input으로 bottleneck에서 존재하는 벡터의 벡터공간  \n",
    "(N, 28*28)차원의 입력을 (N, 2) 차원으로 투사/압축 시킴"
   ]
  },
  {
   "cell_type": "code",
   "execution_count": 52,
   "metadata": {},
   "outputs": [
    {
     "data": {
      "image/png": "[encoded data removed]",
      "text/plain": [
       "<Figure size 1440x720 with 1 Axes>"
      ]
     },
     "metadata": {
      "needs_background": "light"
     },
     "output_type": "display_data"
    }
   ],
   "source": [
    "if config.btl_size==2:\n",
    "    color_map=[\n",
    "        'brown', 'red', 'orange', 'yellow', 'green',\n",
    "        'blue', 'navy', 'purple', 'gray', 'black'\n",
    "    ]\n",
    "    \n",
    "    plt.figure(figsize=(20,10))\n",
    "    with torch.no_grad():\n",
    "        latents=model.encoder(test_x[:1000])\n",
    "        \n",
    "        for i in range(10):\n",
    "            target_latents=latents[test_y[:1000]==i]\n",
    "            target_y=test_y[:1000][test_y[:1000]==i]\n",
    "            plt.scatter(target_latents[:,0],\n",
    "                       target_latents[:,1],\n",
    "                       marker='o',\n",
    "                       color=color_map[i],\n",
    "                       label=i)\n",
    "        plt.legend()\n",
    "        plt.grid(axis='both')\n",
    "        plt.show()"
   ]
  },
  {
   "cell_type": "markdown",
   "metadata": {},
   "source": [
    "### latent space의 빈 공간에 대해서 어떤 값이 나오는지 확인해보기\n",
    "latent space가 어떤 특징을 가는지 조금 이해해 볼 수 있음"
   ]
  },
  {
   "cell_type": "code",
   "execution_count": null,
   "metadata": {},
   "outputs": [],
   "source": [
    "if config.btl_size==2:\n",
    "    min_range, max_range=-2., 2. #latent space는 -3~3 범위에서 -2~2 범위를 가져옴\n",
    "    n=20\n",
    "    step=(max_range-min_range) / float(n)\n",
    "    \n",
    "    with torch.no_grad():\n",
    "        lines=[]\n",
    "        \n",
    "        for v1 in np.arrange(min_range, max_range, step):\n",
    "            z=torch.stack([\n",
    "                torch.FloatTensor([v1]*n),\n",
    "                torch.FloatTensor([v2 for v2 in np.arrange(min_range, max_range, step)])\n",
    "                \n",
    "            ], dim=-1)\n"
   ]
  },
  {
   "cell_type": "code",
   "execution_count": null,
   "metadata": {},
   "outputs": [],
   "source": []
  },
  {
   "cell_type": "code",
   "execution_count": null,
   "metadata": {},
   "outputs": [],
   "source": []
  },
  {
   "cell_type": "code",
   "execution_count": null,
   "metadata": {},
   "outputs": [],
   "source": []
  },
  {
   "cell_type": "code",
   "execution_count": null,
   "metadata": {},
   "outputs": [],
   "source": []
  }
 ],
 "metadata": {
  "kernelspec": {
   "display_name": "Python 3",
   "language": "python",
   "name": "python3"
  },
  "language_info": {
   "codemirror_mode": {
    "name": "ipython",
    "version": 3
   },
   "file_extension": ".py",
   "mimetype": "text/x-python",
   "name": "python",
   "nbconvert_exporter": "python",
   "pygments_lexer": "ipython3",
   "version": "3.7.7"
  }
 },
 "nbformat": 4,
 "nbformat_minor": 4
}
